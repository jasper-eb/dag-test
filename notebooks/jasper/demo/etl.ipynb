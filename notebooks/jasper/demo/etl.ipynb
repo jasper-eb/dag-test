{
 "cells": [
  {
   "cell_type": "code",
   "execution_count": null,
   "metadata": {},
   "outputs": [],
   "source": [
    "import datetime\n",
    "import presto\n",
    "\n",
    "from datetime import timedelta\n",
    "from jinja2 import Template\n",
    "from presto import transaction"
   ]
  },
  {
   "cell_type": "code",
   "execution_count": null,
   "metadata": {
    "tags": [
     "parameters"
    ]
   },
   "outputs": [],
   "source": [
    "# Defaults to fall back to\n",
    "date = datetime.date.today() - timedelta(days=365)\n",
    "\n",
    "# Replace these so we can see the override\n",
    "drop_query = '../../../resources/jasper/demo/drop.sql'\n",
    "ctas_query = '../../../resources/jasper/demo/ctas.sql'"
   ]
  },
  {
   "cell_type": "code",
   "execution_count": null,
   "metadata": {},
   "outputs": [],
   "source": [
    "conn = presto.dbapi.connect(\n",
    "    host='presto-1.prod.dataf.eb',\n",
    "    port=8080,\n",
    "    user='jasper',\n",
    "    catalog='hive',\n",
    "    isolation_level=transaction.IsolationLevel.REPEATABLE_READ,\n",
    ")\n",
    "cur = conn.cursor()"
   ]
  },
  {
   "cell_type": "code",
   "execution_count": null,
   "metadata": {},
   "outputs": [],
   "source": [
    "def template_query(file_path, context={}):\n",
    "    lines = '\\n'.join(open(file_path, 'r').readlines())\n",
    "    template = Template(lines)\n",
    "    return template.render(**context)"
   ]
  },
  {
   "cell_type": "code",
   "execution_count": null,
   "metadata": {},
   "outputs": [],
   "source": [
    "parameters = {\n",
    "    'date': date.strftime('%Y-%m-%d')\n",
    "}\n",
    "drop = template_query(drop_query)\n",
    "ctas = template_query(ctas_query, parameters)"
   ]
  },
  {
   "cell_type": "code",
   "execution_count": null,
   "metadata": {},
   "outputs": [],
   "source": [
    "cur.execute(drop)\n",
    "if not cur.fetchall():\n",
    "    raise Exception(\"Table did not drop succesfully\")\n",
    "conn.commit()"
   ]
  },
  {
   "cell_type": "code",
   "execution_count": null,
   "metadata": {},
   "outputs": [],
   "source": [
    "cur.execute(ctas)\n",
    "num_rows = cur.fetchall()\n",
    "conn.commit()"
   ]
  },
  {
   "cell_type": "code",
   "execution_count": null,
   "metadata": {},
   "outputs": [],
   "source": [
    "print(num_rows)"
   ]
  },
  {
   "cell_type": "code",
   "execution_count": null,
   "metadata": {},
   "outputs": [],
   "source": []
  }
 ],
 "metadata": {
  "celltoolbar": "Tags",
  "kernelspec": {
   "display_name": "Python 3",
   "language": "python",
   "name": "python3"
  },
  "language_info": {
   "codemirror_mode": {
    "name": "ipython",
    "version": 3
   },
   "file_extension": ".py",
   "mimetype": "text/x-python",
   "name": "python",
   "nbconvert_exporter": "python",
   "pygments_lexer": "ipython3",
   "version": "3.7.4"
  }
 },
 "nbformat": 4,
 "nbformat_minor": 4
}
